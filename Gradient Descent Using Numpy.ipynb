{
 "cells": [
  {
   "cell_type": "markdown",
   "metadata": {},
   "source": [
    "# Gradient Descent Algorithm"
   ]
  },
  {
   "cell_type": "markdown",
   "metadata": {},
   "source": [
    "Youtube link : https://www.youtube.com/watch?v=sDv4f4s2SB8\n",
    "\n",
    "Drive Link to Flow chart : https://drive.google.com/file/d/16D9otbz-Gl-KBYc4K9zDJZGxaAbq53B9/view?usp=sharing"
   ]
  },
  {
   "cell_type": "markdown",
   "metadata": {},
   "source": [
    "# Implementing the Gradient Descent Algorithm in a Sales- Advertisement Datset "
   ]
  },
  {
   "cell_type": "code",
   "execution_count": 1,
   "metadata": {},
   "outputs": [],
   "source": [
    "### Loading the liabraries\n",
    "## Importing all the necessary liabraries\n",
    "import pandas as pd\n",
    "import numpy as np\n",
    "import seaborn as sn\n",
    "import matplotlib.pyplot as plt\n",
    "from scipy import stats\n",
    "import statistics\n",
    "\n",
    "## Displaying multiple outputs in the Jupyter file\n",
    "from IPython.core.interactiveshell import InteractiveShell\n",
    "InteractiveShell.ast_node_interactivity = \"all\""
   ]
  },
  {
   "cell_type": "code",
   "execution_count": 2,
   "metadata": {},
   "outputs": [],
   "source": [
    "## Let's load the dataset now:\n",
    "file_loc = r'C:\\Users\\U367393\\Documents\\01 Personal Documents\\Python\\Codes-Data-Files\\Machine Learning (Codes and Data Files)\\Data'\n",
    "file_name = 'Advertising.csv'\n",
    "adv_df = pd.read_csv(file_loc +r'\\\\' + file_name)"
   ]
  },
  {
   "cell_type": "code",
   "execution_count": 3,
   "metadata": {},
   "outputs": [
    {
     "data": {
      "text/html": [
       "<div>\n",
       "<style scoped>\n",
       "    .dataframe tbody tr th:only-of-type {\n",
       "        vertical-align: middle;\n",
       "    }\n",
       "\n",
       "    .dataframe tbody tr th {\n",
       "        vertical-align: top;\n",
       "    }\n",
       "\n",
       "    .dataframe thead th {\n",
       "        text-align: right;\n",
       "    }\n",
       "</style>\n",
       "<table border=\"1\" class=\"dataframe\">\n",
       "  <thead>\n",
       "    <tr style=\"text-align: right;\">\n",
       "      <th></th>\n",
       "      <th>Unnamed: 0</th>\n",
       "      <th>TV</th>\n",
       "      <th>Radio</th>\n",
       "      <th>Newspaper</th>\n",
       "      <th>Sales</th>\n",
       "    </tr>\n",
       "  </thead>\n",
       "  <tbody>\n",
       "    <tr>\n",
       "      <th>0</th>\n",
       "      <td>1</td>\n",
       "      <td>230.1</td>\n",
       "      <td>37.8</td>\n",
       "      <td>69.2</td>\n",
       "      <td>22.1</td>\n",
       "    </tr>\n",
       "    <tr>\n",
       "      <th>1</th>\n",
       "      <td>2</td>\n",
       "      <td>44.5</td>\n",
       "      <td>39.3</td>\n",
       "      <td>45.1</td>\n",
       "      <td>10.4</td>\n",
       "    </tr>\n",
       "    <tr>\n",
       "      <th>2</th>\n",
       "      <td>3</td>\n",
       "      <td>17.2</td>\n",
       "      <td>45.9</td>\n",
       "      <td>69.3</td>\n",
       "      <td>9.3</td>\n",
       "    </tr>\n",
       "    <tr>\n",
       "      <th>3</th>\n",
       "      <td>4</td>\n",
       "      <td>151.5</td>\n",
       "      <td>41.3</td>\n",
       "      <td>58.5</td>\n",
       "      <td>18.5</td>\n",
       "    </tr>\n",
       "    <tr>\n",
       "      <th>4</th>\n",
       "      <td>5</td>\n",
       "      <td>180.8</td>\n",
       "      <td>10.8</td>\n",
       "      <td>58.4</td>\n",
       "      <td>12.9</td>\n",
       "    </tr>\n",
       "  </tbody>\n",
       "</table>\n",
       "</div>"
      ],
      "text/plain": [
       "   Unnamed: 0     TV  Radio  Newspaper  Sales\n",
       "0           1  230.1   37.8       69.2   22.1\n",
       "1           2   44.5   39.3       45.1   10.4\n",
       "2           3   17.2   45.9       69.3    9.3\n",
       "3           4  151.5   41.3       58.5   18.5\n",
       "4           5  180.8   10.8       58.4   12.9"
      ]
     },
     "execution_count": 3,
     "metadata": {},
     "output_type": "execute_result"
    },
    {
     "name": "stdout",
     "output_type": "stream",
     "text": [
      "<class 'pandas.core.frame.DataFrame'>\n",
      "RangeIndex: 200 entries, 0 to 199\n",
      "Data columns (total 5 columns):\n",
      " #   Column      Non-Null Count  Dtype  \n",
      "---  ------      --------------  -----  \n",
      " 0   Unnamed: 0  200 non-null    int64  \n",
      " 1   TV          200 non-null    float64\n",
      " 2   Radio       200 non-null    float64\n",
      " 3   Newspaper   200 non-null    float64\n",
      " 4   Sales       200 non-null    float64\n",
      "dtypes: float64(4), int64(1)\n",
      "memory usage: 7.9 KB\n"
     ]
    }
   ],
   "source": [
    "## Let's look at the dataframe\n",
    "adv_df.head(5)\n",
    "adv_df.info()"
   ]
  },
  {
   "cell_type": "markdown",
   "metadata": {},
   "source": [
    "The objective is to predict the Sales using advertising spend in TV, Radio and Newspaper. "
   ]
  },
  {
   "cell_type": "code",
   "execution_count": 4,
   "metadata": {},
   "outputs": [
    {
     "data": {
      "text/html": [
       "<div>\n",
       "<style scoped>\n",
       "    .dataframe tbody tr th:only-of-type {\n",
       "        vertical-align: middle;\n",
       "    }\n",
       "\n",
       "    .dataframe tbody tr th {\n",
       "        vertical-align: top;\n",
       "    }\n",
       "\n",
       "    .dataframe thead th {\n",
       "        text-align: right;\n",
       "    }\n",
       "</style>\n",
       "<table border=\"1\" class=\"dataframe\">\n",
       "  <thead>\n",
       "    <tr style=\"text-align: right;\">\n",
       "      <th></th>\n",
       "      <th>Sales</th>\n",
       "    </tr>\n",
       "  </thead>\n",
       "  <tbody>\n",
       "    <tr>\n",
       "      <th>0</th>\n",
       "      <td>22.1</td>\n",
       "    </tr>\n",
       "    <tr>\n",
       "      <th>1</th>\n",
       "      <td>10.4</td>\n",
       "    </tr>\n",
       "  </tbody>\n",
       "</table>\n",
       "</div>"
      ],
      "text/plain": [
       "   Sales\n",
       "0   22.1\n",
       "1   10.4"
      ]
     },
     "execution_count": 4,
     "metadata": {},
     "output_type": "execute_result"
    },
    {
     "data": {
      "text/html": [
       "<div>\n",
       "<style scoped>\n",
       "    .dataframe tbody tr th:only-of-type {\n",
       "        vertical-align: middle;\n",
       "    }\n",
       "\n",
       "    .dataframe tbody tr th {\n",
       "        vertical-align: top;\n",
       "    }\n",
       "\n",
       "    .dataframe thead th {\n",
       "        text-align: right;\n",
       "    }\n",
       "</style>\n",
       "<table border=\"1\" class=\"dataframe\">\n",
       "  <thead>\n",
       "    <tr style=\"text-align: right;\">\n",
       "      <th></th>\n",
       "      <th>TV</th>\n",
       "      <th>Radio</th>\n",
       "      <th>Newspaper</th>\n",
       "    </tr>\n",
       "  </thead>\n",
       "  <tbody>\n",
       "    <tr>\n",
       "      <th>0</th>\n",
       "      <td>230.1</td>\n",
       "      <td>37.8</td>\n",
       "      <td>69.2</td>\n",
       "    </tr>\n",
       "    <tr>\n",
       "      <th>1</th>\n",
       "      <td>44.5</td>\n",
       "      <td>39.3</td>\n",
       "      <td>45.1</td>\n",
       "    </tr>\n",
       "  </tbody>\n",
       "</table>\n",
       "</div>"
      ],
      "text/plain": [
       "      TV  Radio  Newspaper\n",
       "0  230.1   37.8       69.2\n",
       "1   44.5   39.3       45.1"
      ]
     },
     "execution_count": 4,
     "metadata": {},
     "output_type": "execute_result"
    }
   ],
   "source": [
    "### Creating the dep and ind variables\n",
    "y = adv_df.loc[:, ['Sales']]\n",
    "x = adv_df.loc[: , ['TV' , 'Radio' , 'Newspaper']]\n",
    "y.head(2)\n",
    "x.head(2)"
   ]
  },
  {
   "cell_type": "code",
   "execution_count": 5,
   "metadata": {},
   "outputs": [
    {
     "data": {
      "text/plain": [
       "Sales   -2.148975e-16\n",
       "dtype: float64"
      ]
     },
     "execution_count": 5,
     "metadata": {},
     "output_type": "execute_result"
    },
    {
     "data": {
      "text/plain": [
       "Sales    1.0\n",
       "dtype: float64"
      ]
     },
     "execution_count": 5,
     "metadata": {},
     "output_type": "execute_result"
    },
    {
     "data": {
      "text/plain": [
       "TV           1.104672e-16\n",
       "Radio       -4.413137e-16\n",
       "Newspaper    2.220446e-16\n",
       "dtype: float64"
      ]
     },
     "execution_count": 5,
     "metadata": {},
     "output_type": "execute_result"
    },
    {
     "data": {
      "text/plain": [
       "TV           1.0\n",
       "Radio        1.0\n",
       "Newspaper    1.0\n",
       "dtype: float64"
      ]
     },
     "execution_count": 5,
     "metadata": {},
     "output_type": "execute_result"
    }
   ],
   "source": [
    "## Let's standardize the data \n",
    "def standardize(x):\n",
    "    x = np.array(x)\n",
    "    m = np.mean(x)\n",
    "    v = np.std(x)\n",
    "    return ((x-m)/v)\n",
    "dep = y.apply(standardize , axis = 0)\n",
    "ind = x.apply(standardize , axis = 0)\n",
    "## Let's validate if standardization has been done properly or not?\n",
    "dep.apply(np.mean , axis = 0)\n",
    "dep.apply(np.std , axis = 0)\n",
    "ind.apply(np.mean , axis = 0)\n",
    "ind.apply(np.std , axis = 0)"
   ]
  },
  {
   "cell_type": "code",
   "execution_count": 6,
   "metadata": {},
   "outputs": [],
   "source": [
    "## Let's create a test and train dataset to run grad descent algorithm on\n",
    "from sklearn.model_selection import train_test_split\n",
    "train_x , test_x , train_y , test_y = train_test_split(ind , dep , train_size = 0.7 , random_state = 42)"
   ]
  },
  {
   "cell_type": "code",
   "execution_count": 7,
   "metadata": {},
   "outputs": [],
   "source": [
    "# Creating a function that generates random feature weights \n",
    "def initialize_weights(num):\n",
    "    np.random.seed(0)\n",
    "    ## Initializing bias or intercept first\n",
    "    b = np.random.rand(1,1)\n",
    "    w = np.random.rand(num,1)\n",
    "    return b.flatten(), w\n",
    "\n",
    "## Calculating the predicted value of the variable:\n",
    "def y_pred(b,w,x):\n",
    "    return b+ np.matmul(x.to_numpy(),w)\n",
    "\n",
    "## Creating cost function\n",
    "def cost_function(act , pred):\n",
    "    ## Calculating mean square error\n",
    "    act = act.to_numpy()\n",
    "    resid = act - pred\n",
    "    return np.sum(resid**2)/len(act)\n",
    "\n",
    "## Updating the beta values\n",
    "def update_beta(b,w ,pred , actual , learning_rate, x):\n",
    "    ## Gradient of intercept\n",
    "    db = (2* np.sum(pred-actual.to_numpy()))/len(pred)\n",
    "    ## Gradient of weights\n",
    "    dw = (2* np.dot(np.transpose(pred-actual.to_numpy()) , x.to_numpy()))/len(pred)\n",
    "    ## updating the parameter\n",
    "    b_1 = b- learning_rate * db\n",
    "    w_1 = w- learning_rate * np.transpose(dw)\n",
    "    ## Returing the new bias and weight parameters \n",
    "    return b_1 , w_1\n"
   ]
  },
  {
   "cell_type": "code",
   "execution_count": 8,
   "metadata": {},
   "outputs": [],
   "source": [
    "def run_grad_descent(dep, ind , alpha , num_iterations):\n",
    "    # Initialize the bias and weighs\n",
    "    b,w = initialize_weights(ind.shape[1])\n",
    "    gd_iter_df = pd.DataFrame( columns = ['iteration' , 'cost'])\n",
    "    \n",
    "    for i in range(num_iterations):\n",
    "        ## Predict Y based on the initial weight parameters\n",
    "        y_hat = y_pred(b , w  , ind)\n",
    "        ## Calculate the loss function\n",
    "        cost = cost_function(dep , y_hat)\n",
    "        ## Store previous coeffs\n",
    "        int_prev = b\n",
    "        coeff_prev = w\n",
    "        ## New Weights\n",
    "        b, w = update_beta(int_prev , coeff_prev , y_hat , dep , alpha , ind)\n",
    "        ## Store the cost and iteration count\n",
    "        gd_iter_df.loc[i, 'iteration'] = i\n",
    "        gd_iter_df.loc[i , 'cost'] = cost\n",
    "        \n",
    "    return gd_iter_df , b,w"
   ]
  },
  {
   "cell_type": "code",
   "execution_count": 9,
   "metadata": {},
   "outputs": [
    {
     "data": {
      "text/plain": [
       "[<matplotlib.lines.Line2D at 0x2d1881ce4c8>]"
      ]
     },
     "execution_count": 9,
     "metadata": {},
     "output_type": "execute_result"
    },
    {
     "name": "stdout",
     "output_type": "stream",
     "text": [
      "[0.03248846] [[0.71416945]\n",
      " [0.53441337]\n",
      " [0.07838266]]\n"
     ]
    },
    {
     "data": {
      "text/plain": [
       "<matplotlib.legend.Legend at 0x2d1881ec248>"
      ]
     },
     "execution_count": 9,
     "metadata": {},
     "output_type": "execute_result"
    },
    {
     "data": {
      "text/plain": [
       "[<matplotlib.lines.Line2D at 0x2d185e05e48>]"
      ]
     },
     "execution_count": 9,
     "metadata": {},
     "output_type": "execute_result"
    },
    {
     "name": "stdout",
     "output_type": "stream",
     "text": [
      "[0.00221864] [[0.72500382]\n",
      " [0.56709306]\n",
      " [0.02872862]]\n"
     ]
    },
    {
     "data": {
      "text/plain": [
       "<matplotlib.legend.Legend at 0x2d187ad6c48>"
      ]
     },
     "execution_count": 9,
     "metadata": {},
     "output_type": "execute_result"
    },
    {
     "data": {
      "text/plain": [
       "[<matplotlib.lines.Line2D at 0x2d188202188>]"
      ]
     },
     "execution_count": 9,
     "metadata": {},
     "output_type": "execute_result"
    },
    {
     "name": "stdout",
     "output_type": "stream",
     "text": [
      "[0.00221915] [[0.72500442]\n",
      " [0.56708336]\n",
      " [0.02873933]]\n"
     ]
    },
    {
     "data": {
      "text/plain": [
       "<matplotlib.legend.Legend at 0x2d18821a908>"
      ]
     },
     "execution_count": 9,
     "metadata": {},
     "output_type": "execute_result"
    },
    {
     "data": {
      "text/plain": [
       "Text(0, 0.5, 'Loss Function')"
      ]
     },
     "execution_count": 9,
     "metadata": {},
     "output_type": "execute_result"
    },
    {
     "data": {
      "text/plain": [
       "Text(0.5, 0, 'Number of Iterations')"
      ]
     },
     "execution_count": 9,
     "metadata": {},
     "output_type": "execute_result"
    },
    {
     "data": {
      "image/png": "[encoded data removed]",
      "text/plain": [
       "<Figure size 432x288 with 1 Axes>"
      ]
     },
     "metadata": {
      "needs_background": "light"
     },
     "output_type": "display_data"
    }
   ],
   "source": [
    "for i in [0.001 , 0.01 , 0.0055]:      \n",
    "    gd_df, b, w = run_grad_descent( dep=train_y, ind=train_x, alpha =  i, num_iterations = 1500)\n",
    "    plt.plot(gd_df['iteration'] , gd_df['cost'] , label = ('alpha = '+ str(i)))\n",
    "    print(b,w)\n",
    "    plt.legend()\n",
    "plt.ylabel('Loss Function')\n",
    "plt.xlabel('Number of Iterations')\n",
    "    "
   ]
  },
  {
   "cell_type": "markdown",
   "metadata": {},
   "source": [
    "The algorithm is very much dependent on the value of learnaing parameter. This means that if the learning parameter is too low, the algorithm will take a lot of iterations to reach to the answer, thereby defying the overall purpose of the algorithm. However, if the learning parameter is too high, the algorithm may skip the minima all together and may oscillate between the unoptimized values"
   ]
  },
  {
   "cell_type": "markdown",
   "metadata": {},
   "source": [
    "# Scikit Liabrary for Machine Learning"
   ]
  },
  {
   "cell_type": "code",
   "execution_count": 10,
   "metadata": {},
   "outputs": [
    {
     "data": {
      "text/plain": [
       "LinearRegression(copy_X=True, fit_intercept=True, n_jobs=None, normalize=False)"
      ]
     },
     "execution_count": 10,
     "metadata": {},
     "output_type": "execute_result"
    },
    {
     "name": "stdout",
     "output_type": "stream",
     "text": [
      "Intercept is [0.00221864]\n",
      "Coefficients are [[0.72500382 0.56709307 0.02872862]]\n"
     ]
    }
   ],
   "source": [
    "from sklearn.linear_model import LinearRegression\n",
    "## Initializing the model\n",
    "linreg = LinearRegression(fit_intercept=True)\n",
    "## Fitting the model\n",
    "linreg.fit(train_x , train_y)\n",
    "## Printing the coeff\n",
    "print('Intercept is {}'.format(linreg.intercept_))\n",
    "print('Coefficients are {}'.format(linreg.coef_))"
   ]
  },
  {
   "cell_type": "markdown",
   "metadata": {},
   "source": [
    "<B>Comparing the Gradient Descent Results with the SKLEARN </B> : It can be seen that the value of the base and coefficients are very close to each other when learning parameter equals 0.01. For the other learning parameters, the value does not match the output of SKlearn. However, if we were to increase the iterations of the gradient descent, we will approach the coeff. through all the learning parameters"
   ]
  },
  {
   "cell_type": "code",
   "execution_count": 11,
   "metadata": {},
   "outputs": [
    {
     "data": {
      "text/html": [
       "<div>\n",
       "<style scoped>\n",
       "    .dataframe tbody tr th:only-of-type {\n",
       "        vertical-align: middle;\n",
       "    }\n",
       "\n",
       "    .dataframe tbody tr th {\n",
       "        vertical-align: top;\n",
       "    }\n",
       "\n",
       "    .dataframe thead th {\n",
       "        text-align: right;\n",
       "    }\n",
       "</style>\n",
       "<table border=\"1\" class=\"dataframe\">\n",
       "  <thead>\n",
       "    <tr style=\"text-align: right;\">\n",
       "      <th></th>\n",
       "      <th>actual</th>\n",
       "      <th>predicted</th>\n",
       "      <th>residual</th>\n",
       "    </tr>\n",
       "  </thead>\n",
       "  <tbody>\n",
       "    <tr>\n",
       "      <th>0</th>\n",
       "      <td>0.552898</td>\n",
       "      <td>0.488605</td>\n",
       "      <td>0.064293</td>\n",
       "    </tr>\n",
       "    <tr>\n",
       "      <th>1</th>\n",
       "      <td>1.609697</td>\n",
       "      <td>1.376860</td>\n",
       "      <td>0.232836</td>\n",
       "    </tr>\n",
       "    <tr>\n",
       "      <th>2</th>\n",
       "      <td>1.417551</td>\n",
       "      <td>1.446579</td>\n",
       "      <td>-0.029027</td>\n",
       "    </tr>\n",
       "    <tr>\n",
       "      <th>3</th>\n",
       "      <td>-1.291696</td>\n",
       "      <td>-0.602041</td>\n",
       "      <td>-0.689655</td>\n",
       "    </tr>\n",
       "    <tr>\n",
       "      <th>4</th>\n",
       "      <td>2.051631</td>\n",
       "      <td>1.571713</td>\n",
       "      <td>0.479917</td>\n",
       "    </tr>\n",
       "  </tbody>\n",
       "</table>\n",
       "</div>"
      ],
      "text/plain": [
       "     actual  predicted  residual\n",
       "0  0.552898   0.488605  0.064293\n",
       "1  1.609697   1.376860  0.232836\n",
       "2  1.417551   1.446579 -0.029027\n",
       "3 -1.291696  -0.602041 -0.689655\n",
       "4  2.051631   1.571713  0.479917"
      ]
     },
     "execution_count": 11,
     "metadata": {},
     "output_type": "execute_result"
    }
   ],
   "source": [
    "## Predicting the test set\n",
    "test_df = pd.DataFrame({\n",
    "                        'actual' : list(test_y['Sales']) , \n",
    "                        'predicted' : list(linreg.predict(test_x).flatten())\n",
    "                      })\n",
    "test_df['residual'] = test_df['actual'] - test_df['predicted']\n",
    "test_df.head(5)"
   ]
  },
  {
   "cell_type": "markdown",
   "metadata": {},
   "source": [
    "# Measuring the accuracy of prediction"
   ]
  },
  {
   "cell_type": "code",
   "execution_count": 12,
   "metadata": {},
   "outputs": [
    {
     "name": "stdout",
     "output_type": "stream",
     "text": [
      "r2_score of the model is  0.8609466508230368\n",
      "RMSE of the prediction is 0.37440213765824193\n"
     ]
    }
   ],
   "source": [
    "from sklearn import metrics\n",
    "## Calculating R^2 \n",
    "print('r2_score of the model is ' , metrics.r2_score(y_true=test_df['actual'] , y_pred= test_df['predicted']))\n",
    "## Calculating RMSE \n",
    "print('RMSE of the prediction is' , np.sqrt(metrics.mean_squared_error(test_df['actual'] , y_pred= test_df['predicted'])))"
   ]
  }
 ],
 "metadata": {
  "kernelspec": {
   "display_name": "Python 3",
   "language": "python",
   "name": "python3"
  },
  "language_info": {
   "codemirror_mode": {
    "name": "ipython",
    "version": 3
   },
   "file_extension": ".py",
   "mimetype": "text/x-python",
   "name": "python",
   "nbconvert_exporter": "python",
   "pygments_lexer": "ipython3",
   "version": "3.8.8"
  }
 },
 "nbformat": 4,
 "nbformat_minor": 4
}
