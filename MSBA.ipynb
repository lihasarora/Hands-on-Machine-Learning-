{
  "nbformat": 4,
  "nbformat_minor": 0,
  "metadata": {
    "colab": {
      "private_outputs": true,
      "provenance": [],
      "authorship_tag": "ABX9TyOZPSG/jJoaF5+pOAaw87fQ",
      "include_colab_link": true
    },
    "kernelspec": {
      "name": "python3",
      "display_name": "Python 3"
    },
    "language_info": {
      "name": "python"
    }
  },
  "cells": [
    {
      "cell_type": "markdown",
      "metadata": {
        "id": "view-in-github",
        "colab_type": "text"
      },
      "source": [
        "<a href=\"https://colab.research.google.com/github/lihasarora/Hands-on-Machine-Learning-/blob/main/MSBA.ipynb\" target=\"_parent\"><img src=\"https://colab.research.google.com/assets/colab-badge.svg\" alt=\"Open In Colab\"/></a>"
      ]
    },
    {
      "cell_type": "code",
      "execution_count": null,
      "metadata": {
        "id": "hnnilPDiYA59"
      },
      "outputs": [],
      "source": [
        "import pandas as pd, numpy as np, seaborn as sn, matplotlib.pyplot as plt\n",
        "from tqdm import tqdm\n",
        "from sklearn.utils import shuffle"
      ]
    },
    {
      "cell_type": "markdown",
      "source": [
        "## Sampling dist of sample mean"
      ],
      "metadata": {
        "id": "ZrwhIGQwbWjG"
      }
    },
    {
      "cell_type": "code",
      "source": [
        "def gen_pop(num_samples:int)->np.array:\n",
        "  return np.random.normal(0,10,num_samples)\n",
        "\n",
        "def gen_samples(sample_size:int, pop:np.array)->np.array:\n",
        "  return np.random.choice(pop,sample_size)"
      ],
      "metadata": {
        "id": "6yEHVnRWYIlh"
      },
      "execution_count": null,
      "outputs": []
    },
    {
      "cell_type": "code",
      "source": [
        "population = gen_pop(10000)"
      ],
      "metadata": {
        "id": "dp6pAeENYs4B"
      },
      "execution_count": null,
      "outputs": []
    },
    {
      "cell_type": "code",
      "source": [
        "dict_ = {}\n",
        "for num in [10,40,100]:\n",
        "  dict_[num] = [gen_samples(num,population).mean() for i in range(1000)]"
      ],
      "metadata": {
        "id": "iGEJ5-1uZMcF"
      },
      "execution_count": null,
      "outputs": []
    },
    {
      "cell_type": "code",
      "source": [
        "plt.figure(figsize = (20,10))\n",
        "for sample_size in list(dict_.keys()):\n",
        "  sn.kdeplot(dict_[sample_size], label = f\"{sample_size}\")\n",
        "plt.axvline(population.mean(), linestyle = 'dashed', color = 'black')\n",
        "plt.legend()"
      ],
      "metadata": {
        "id": "4YiM4sR3ZttU"
      },
      "execution_count": null,
      "outputs": []
    },
    {
      "cell_type": "markdown",
      "source": [
        "## Central Limit Theoram\n",
        "\n",
        " - In the above example, we considered the population to be normal. What if we don't know the population disstribution or the population is not normally distributed\n",
        "\n",
        " - One can see that the as sample size increases, the sampling distribution of sample mean gets normally distributed"
      ],
      "metadata": {
        "id": "TSqdHqJ5bYxT"
      }
    },
    {
      "cell_type": "code",
      "source": [
        "pop  = np.random.exponential(scale = 30, size = 10000)\n",
        "\n",
        "plt.figure(figsize = (15,5))\n",
        "plt.subplot(1,2,1)\n",
        "sn.kdeplot(pop, fill = True)\n",
        "plt.title(\"Population is exponentially distributed\")\n",
        "\n",
        "plt.subplot(1,2,2)\n",
        "\n",
        "dict_ = {}\n",
        "for num in [10,40,100]:\n",
        "  dict_[num] = [gen_samples(num,pop).mean() for i in range(100)]\n",
        "\n",
        "for sample_size in list(dict_.keys()):\n",
        "  sn.kdeplot(dict_[sample_size], label = f\"{sample_size}\")\n",
        "plt.axvline(pop.mean(), linestyle = 'dashed', color = 'black')\n",
        "plt.legend()"
      ],
      "metadata": {
        "id": "Rge14gG3adDg"
      },
      "execution_count": null,
      "outputs": []
    },
    {
      "cell_type": "markdown",
      "source": [
        "# Do we need the the samples to be normally distributed for one sample t test?"
      ],
      "metadata": {
        "id": "2XAgJaRKUR4i"
      }
    },
    {
      "cell_type": "code",
      "source": [
        "np.random.seed(42)\n",
        "pop_e = np.random.exponential(scale = 5, size = 10000)\n",
        "pop_n  = np.random.normal(5,10,10000)\n",
        "plot = sn.displot(pop_e, bins = 30, kde  = True)\n",
        "plot = sn.displot(pop_n, bins = 30, kde  = True)\n",
        "# title = plt.title(\"Exponential population\")\n",
        "print(f\"{pop_e.mean()=:0.2f} , {pop_n.mean()=:0.2f} \")"
      ],
      "metadata": {
        "id": "63mbwtv0UQm1"
      },
      "execution_count": null,
      "outputs": []
    },
    {
      "cell_type": "code",
      "source": [
        "# H0: mean = 4.89 Ha: mean ne 4.89\n",
        "from scipy.stats import ttest_1samp\n",
        "# True = Reject\n",
        "hyp_dict_n = {}\n",
        "hyp_dict_e = {}\n",
        "\n",
        "for sample_size in tqdm([10,15,30,50,100,150,300,500]):\n",
        "  hyp_test = pd.Series([True if ttest_1samp(a = gen_samples(sample_size,pop_n), popmean = pop_n.mean(),alternative= 'two-sided')[1] < 0.05 else False for x in range(10000)])\n",
        "  hyp_dict_n[sample_size] = hyp_test.value_counts(normalize = True)[True]\n",
        "\n",
        "  hyp_test = pd.Series([True if ttest_1samp(a = gen_samples(sample_size,pop_e), popmean = pop_e.mean(),alternative= 'two-sided')[1] < 0.05 else False for x in range(10000)])\n",
        "  hyp_dict_e[sample_size] = hyp_test.value_counts(normalize = True)[True]\n"
      ],
      "metadata": {
        "id": "4YG8lGQDU-OC"
      },
      "execution_count": null,
      "outputs": []
    },
    {
      "cell_type": "code",
      "source": [
        "plt.figure(figsize = (20,5))\n",
        "plt.plot(list(hyp_dict_n.keys()),list(hyp_dict_n.values()))\n",
        "plt.plot(list(hyp_dict_e.keys()),list(hyp_dict_e.values()))\n",
        "plt.axhline(0.05, linestyle = 'dashed', color = 'red')"
      ],
      "metadata": {
        "id": "Qvg2rcnBl_bS"
      },
      "execution_count": null,
      "outputs": []
    },
    {
      "cell_type": "markdown",
      "source": [
        "# 2 sample T Test"
      ],
      "metadata": {
        "id": "wEXuGGDqJYJ0"
      }
    },
    {
      "cell_type": "code",
      "source": [
        "np.random.seed(42)\n",
        "pop1 = np.random.normal(loc = 4, scale = 3, size = 10000)\n",
        "pop2 = np.random.normal(loc = 5, scale = 2.6, size = 10000)\n",
        "sn.kdeplot(pop1, fill = True, label = \"N-1\")\n",
        "sn.kdeplot(pop2, fill = True, label = \"N-2\")\n",
        "plt.legend()"
      ],
      "metadata": {
        "id": "p3pDt4dh7qea"
      },
      "execution_count": null,
      "outputs": []
    },
    {
      "cell_type": "code",
      "source": [
        "# sample from both the distributions\n",
        "np.random.seed(42)\n",
        "samp1 = np.random.choice(pop1, size = 1000)\n",
        "samp2 = np.random.choice(pop2, size = 1000)\n",
        "sn.kdeplot(samp1, fill = True, label = \"N-1\")\n",
        "sn.kdeplot(samp2, fill = True, label = \"N-2\")\n",
        "plt.legend()\n",
        "print(f\"samp1 : {samp1.mean()=:0.2} ; {np.var(samp1, ddof = 1)=:0.2} \")\n",
        "print(f\"samp2 : {samp2.mean()=:0.2} ; {np.var(samp2, ddof = 1)=:0.2} \")"
      ],
      "metadata": {
        "id": "2jRvsQ0mJ_0l"
      },
      "execution_count": null,
      "outputs": []
    },
    {
      "cell_type": "markdown",
      "source": [
        "I have to estimate $\\mu_1 - \\mu_2$ using  $\\bar x_1 - \\bar x_2$ "
      ],
      "metadata": {
        "id": "8I1H1i-q2_nF"
      }
    },
    {
      "cell_type": "code",
      "source": [
        "# Lets get the sigma pooled\n",
        "pooled_var = (np.var(samp1,ddof = 1)*(len(samp1)-1) + np.var(samp2,ddof = 1)*(len(samp2)-1))/(len(samp2)+len(samp1)-2)\n",
        "pooled_sd = np.sqrt(pooled_var)* np.sqrt((1/len(samp1))+ (1/len(samp2))) \n",
        "\n",
        "t_value = (np.mean(samp1) - np.mean(samp2))/pooled_sd\n",
        "print(f\"{t_value = }\")"
      ],
      "metadata": {
        "id": "TbGrNX9X6nsw"
      },
      "execution_count": null,
      "outputs": []
    },
    {
      "cell_type": "code",
      "source": [
        "from scipy.stats import ttest_ind\n",
        "ttest_ind(samp1, samp2)"
      ],
      "metadata": {
        "id": "njMRcX9m7Td0"
      },
      "execution_count": null,
      "outputs": []
    },
    {
      "cell_type": "markdown",
      "source": [
        "The $h_0:$ There is a difference in the means is 0 or there is no difference in the mean is rejected "
      ],
      "metadata": {
        "id": "4vaD-D3FEc6O"
      }
    },
    {
      "cell_type": "markdown",
      "source": [
        "One can see that the simulated distribution of the difference of means is very close to the true distribution and hence when there is no difference in the means, the sampling distribution of the difference of means does follow a T-distribution"
      ],
      "metadata": {
        "id": "TNjYhcKlbWAw"
      }
    },
    {
      "cell_type": "code",
      "source": [
        "# What if we generate populations such that Null hypothesis is true\n",
        "sample_size = 100\n",
        "np.random.seed(42)\n",
        "pop1 = np.random.normal(loc = 4, scale = 3, size = 10000)\n",
        "pop2 = np.random.normal(loc = 4, scale = 3, size = 10000)\n",
        "\n",
        "samp1 = np.random.choice(pop1, size = sample_size)\n",
        "samp2 = np.random.choice(pop2, size = sample_size)\n",
        "\n",
        "pooled_var = (np.var(samp1,ddof = 1)*(len(samp1)-1) + np.var(samp2,ddof = 1)*(len(samp2)-1))/(len(samp2)+len(samp1)-2)\n",
        "pooled_sd = np.sqrt(pooled_var)* np.sqrt((1/len(samp1))+ (1/len(samp2))) \n",
        "\n",
        "t_value = (np.mean(samp1) - np.mean(samp2))/pooled_sd\n",
        "print(f\"{t_value = }\")\n",
        "\n",
        "print(f\"Result of TTest:{ttest_ind(samp1, samp2)}\")\n",
        "## The ttest fails to reject the null hypothesis"
      ],
      "metadata": {
        "id": "0-8KleANEWLa"
      },
      "execution_count": null,
      "outputs": []
    },
    {
      "cell_type": "code",
      "source": [
        "## How does the distribution of difference in mean look? \n",
        "sn.kdeplot(np.random.standard_t(df = len(samp1)+ len(samp2)-2, size = 1000)*pooled_sd, fill = True)\n",
        "## Lets get the true distribution as well\n",
        "sn.kdeplot([gen_samples(sample_size,pop2).mean() - gen_samples(sample_size,pop1).mean() for x in range(2000)], fill = True, color = 'red')\n"
      ],
      "metadata": {
        "id": "zyrEYVNNSoIv"
      },
      "execution_count": null,
      "outputs": []
    },
    {
      "cell_type": "markdown",
      "source": [
        "Lets do a bootstrapping method to calculate the difference in means"
      ],
      "metadata": {
        "id": "AGA1UhvAd4HQ"
      }
    },
    {
      "cell_type": "code",
      "source": [
        "sample_size = 20\n",
        "# create two populations\n",
        "np.random.seed(42)\n",
        "pop1 = np.random.normal(loc = 4, scale = 3, size = 10000)\n",
        "pop2 = np.random.normal(loc = 5, scale = 2.6, size = 10000)\n",
        "\n",
        "# sample 100 from each\n",
        "samp1 = np.random.choice(pop1,sample_size)\n",
        "samp2 = np.random.choice(pop2,sample_size)\n",
        "\n",
        "\n",
        "# Store in df for tracking\n",
        "df = shuffle(\n",
        "    pd.concat(\n",
        "    [\n",
        "        pd.DataFrame({\n",
        "    'population': ['one']*len(samp1),\n",
        "    'sample': samp1\n",
        "}),\n",
        "        pd.DataFrame({\n",
        "    'population': ['two']*len(samp2),\n",
        "    'sample': samp2\n",
        "})\n",
        "    ]\n",
        ")\n",
        ")\n",
        "df.head()"
      ],
      "metadata": {
        "id": "Yr13WTnrd6GR"
      },
      "execution_count": null,
      "outputs": []
    },
    {
      "cell_type": "code",
      "source": [
        "# conventional ttest\n",
        "ttest_ind(samp1,samp2)"
      ],
      "metadata": {
        "id": "rgtqhwKAjSiD"
      },
      "execution_count": null,
      "outputs": []
    },
    {
      "cell_type": "code",
      "source": [
        "## How does the difference in means look if we mix them \n",
        "## H0: Both the populations are same\n",
        "np.random.seed(42)\n",
        "sample_combined = [np.mean(df.sample(sample_size,replace=True)[\"sample\"]) -\\\n",
        "                   np.mean(df.sample(sample_size, replace = True)[\"sample\"]) for x in range(100000)]\n",
        "sn.kdeplot(sample_combined, fill = True)\n",
        "title = plt.title(\"Difference in the sample means\")\n",
        "\n",
        "## statistic for the sample in hands\n",
        "plt.axvline(samp1.mean() - samp2.mean(), color = 'red')\n",
        "\n",
        "## get p value\n",
        "p_value = f\"{sum(np.abs(sample_combined)>np.abs(samp1.mean() - samp2.mean()))/len(sample_combined):0.2%}\"\n",
        "print(p_value)"
      ],
      "metadata": {
        "id": "LlXrhjYLeHpk"
      },
      "execution_count": null,
      "outputs": []
    }
  ]
}