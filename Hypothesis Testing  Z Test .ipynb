{
 "cells": [
  {
   "cell_type": "code",
   "execution_count": 1,
   "metadata": {},
   "outputs": [],
   "source": [
    "from scipy import stats\n",
    "import seaborn as sn\n",
    "import pandas as pd\n",
    "import warnings\n",
    "## Display all outputs in the output\n",
    "from IPython.core.interactiveshell import InteractiveShell\n",
    "InteractiveShell.ast_node_interactivity = \"all\""
   ]
  },
  {
   "cell_type": "code",
   "execution_count": 2,
   "metadata": {},
   "outputs": [
    {
     "data": {
      "text/plain": [
       "(-2.0, 0.022750131948179195)"
      ]
     },
     "execution_count": 2,
     "metadata": {},
     "output_type": "execute_result"
    }
   ],
   "source": [
    "# H0: The length =300\n",
    "# Ha: The legth <> 300\n",
    "# Since the population sd is known, its makes sense to run the Z-test\n",
    "\n",
    "def z_test(pop_mean, sample_mean , pop_sd , samp_size):\n",
    "    standard_error =pop_sd/((samp_size)**0.5)\n",
    "    z_score = (sample_mean - pop_mean)/(standard_error)\n",
    "    \n",
    "    return z_score , stats.norm.cdf(z_score)\n",
    "\n",
    "z_test(300, 290 , 50 , 100)"
   ]
  }
 ],
 "metadata": {
  "kernelspec": {
   "display_name": "Python 3",
   "language": "python",
   "name": "python3"
  },
  "language_info": {
   "codemirror_mode": {
    "name": "ipython",
    "version": 3
   },
   "file_extension": ".py",
   "mimetype": "text/x-python",
   "name": "python",
   "nbconvert_exporter": "python",
   "pygments_lexer": "ipython3",
   "version": "3.7.3"
  }
 },
 "nbformat": 4,
 "nbformat_minor": 2
}
